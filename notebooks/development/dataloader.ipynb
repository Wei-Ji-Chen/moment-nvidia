{
 "cells": [
  {
   "cell_type": "code",
   "execution_count": 1,
   "metadata": {},
   "outputs": [],
   "source": [
    "%load_ext autoreload\n",
    "%autoreload 2\n",
    "\n",
    "import os\n",
    "import sys\n",
    "from argparse import Namespace\n",
    "\n",
    "import numpy as np\n",
    "import pandas as pd\n",
    "import matplotlib.pyplot as plt\n",
    "from tqdm import tqdm\n",
    "\n",
    "sys.path.append(os.path.abspath(os.path.join('../../')))\n",
    "\n",
    "from moment.common import PATHS\n",
    "from moment.data.load_data import convert_tsf_to_dataframe\n",
    "from moment.data.dataloader import get_all_datasets, get_timeseries_dataloader\n",
    "from moment.data.forecasting_datasets import get_forecasting_datasets, ShortForecastingDataset, LongForecastingDataset"
   ]
  },
  {
   "cell_type": "code",
   "execution_count": 2,
   "metadata": {},
   "outputs": [],
   "source": [
    "datasets, datasets_name_to_class = get_all_datasets()"
   ]
  },
  {
   "cell_type": "code",
   "execution_count": 3,
   "metadata": {},
   "outputs": [],
   "source": [
    "args = {\n",
    "    'seq_len' : 512, \n",
    "    'pred_len' : 96,\n",
    "    'data_split' : 'train', \n",
    "    'target_col' : 'OT',\n",
    "    'scale' : True, \n",
    "    'stride_len' : 1, \n",
    "    'task' : 'pre-training',\n",
    "    'train_ratio' : 0.6, \n",
    "    'val_ratio' : 0.1, \n",
    "    'test_ratio' : 0.3,\n",
    "    'upsampling_pad_direction' : \"backward\",\n",
    "    'upsampling_type' : \"pad\",\n",
    "    'downsampling_type' : \"interpolate\",\n",
    "    'pad_mode' : \"constant\",\n",
    "    'pad_constant_values' : 0,\n",
    "    'dataset_names' : 'all',\n",
    "    'task' : 'pre-training',\n",
    "    'batch_size' : 32,\n",
    "    'shuffle' : True,\n",
    "    'num_workers' : 10,\n",
    "    'pin_memory' : True,\n",
    "    'drop_last' : False,\n",
    "}"
   ]
  },
  {
   "cell_type": "code",
   "execution_count": 4,
   "metadata": {},
   "outputs": [
    {
     "name": "stdout",
     "output_type": "stream",
     "text": [
      "<torch.utils.data.dataset.ConcatDataset object at 0x7fa7c4640c90>\n"
     ]
    }
   ],
   "source": [
    "dataloader = get_timeseries_dataloader(args=Namespace(**args))"
   ]
  },
  {
   "cell_type": "code",
   "execution_count": 5,
   "metadata": {},
   "outputs": [
    {
     "name": "stderr",
     "output_type": "stream",
     "text": [
      "  0%|          | 0/2455818 [00:00<?, ?it/s]"
     ]
    },
    {
     "name": "stdout",
     "output_type": "stream",
     "text": [
      "torch.Size([32, 1, 512])\n",
      "['OPPORTUNITY' 'MITDB' 'SVDB' 'ECG' 'GHL' 'ECG' 'SVDB' 'SVDB' 'MITDB'\n",
      " 'ECG' 'OPPORTUNITY' 'GHL' 'SVDB' 'MITDB' 'ECG' 'ECG' 'OPPORTUNITY' 'SMD'\n",
      " 'SMD' 'GHL' 'SVDB' 'ECG' 'GHL' 'OPPORTUNITY' 'GHL' 'OPPORTUNITY' 'GHL'\n",
      " 'SMD' 'SMD' 'ECG' 'ECG'\n",
      " 'kaggle_web_traffic_dataset_without_missing_values']\n"
     ]
    },
    {
     "name": "stderr",
     "output_type": "stream",
     "text": [
      "  0%|          | 0/2455818 [00:06<?, ?it/s]\n"
     ]
    }
   ],
   "source": [
    "for batch in tqdm(dataloader, total=len(dataloader)):\n",
    "    ts = batch.timeseries\n",
    "    print(ts.shape)\n",
    "    print(batch.name)\n",
    "    break"
   ]
  },
  {
   "cell_type": "code",
   "execution_count": null,
   "metadata": {},
   "outputs": [],
   "source": []
  }
 ],
 "metadata": {
  "kernelspec": {
   "display_name": "Python 3",
   "language": "python",
   "name": "python3"
  },
  "language_info": {
   "codemirror_mode": {
    "name": "ipython",
    "version": 3
   },
   "file_extension": ".py",
   "mimetype": "text/x-python",
   "name": "python",
   "nbconvert_exporter": "python",
   "pygments_lexer": "ipython3",
   "version": "3.11.5"
  },
  "orig_nbformat": 4
 },
 "nbformat": 4,
 "nbformat_minor": 2
}

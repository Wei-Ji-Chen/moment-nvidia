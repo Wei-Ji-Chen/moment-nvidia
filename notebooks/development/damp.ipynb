{
 "cells": [
  {
   "cell_type": "code",
   "execution_count": 1,
   "metadata": {},
   "outputs": [],
   "source": [
    "import numpy as np"
   ]
  },
  {
   "cell_type": "code",
   "execution_count": null,
   "metadata": {},
   "outputs": [],
   "source": [
    "def MASS_V2(x, y):\n",
    "    \"\"\"\n",
    "    Compute the Mueen's Algorithm for Similarity Search (MASS) distance between two sequences.\n",
    "\n",
    "    Parameters\n",
    "    ----------\n",
    "    x : array_like\n",
    "        The data\n",
    "    y : array_like\n",
    "        The query sequence.\n",
    "    \"\"\"\n",
    "    # Compute lengths of sequences\n",
    "    m = len(y)\n",
    "    n = len(x)\n",
    "    \n",
    "    # Compute y statistics\n",
    "    meany = np.mean(y)\n",
    "    sigmay = np.std(y, ddof=1)\n",
    "    \n",
    "    # Compute x statistics\n",
    "    # XXXX\n",
    "    meanx = np.convolve(x, np.ones(m)/m, mode='valid')\n",
    "    sigmax = np.sqrt(np.convolve(x**2, np.ones(m)/m, mode='valid') - meanx**2)\n",
    "    \n",
    "    # Reverse the query and append zeros\n",
    "    y = y[::-1]\n",
    "    y = np.concatenate((y, np.zeros(n-m)))\n",
    "    \n",
    "    # FFT\n",
    "    X = np.fft.fft(x)\n",
    "    Y = np.fft.fft(y)\n",
    "    Z = X * Y\n",
    "    z = np.fft.ifft(Z)\n",
    "    \n",
    "    # Similarity distance calculation\n",
    "    dist = 2 * (m - (np.real(z[m-1:]) - m * meanx * meany) / (sigmax * sigmay))\n",
    "    dist = np.sqrt(dist)\n",
    "    \n",
    "    return dist\n",
    "\n",
    "# Example usage:\n",
    "x = np.array([1, 2, 3, 4, 5, 6, 7, 8, 9, 10])\n",
    "y = np.array([1, 2, 3])\n",
    "result = MASS_V2(x, y)\n",
    "print(result)"
   ]
  }
 ],
 "metadata": {
  "kernelspec": {
   "display_name": "Python 3",
   "language": "python",
   "name": "python3"
  },
  "language_info": {
   "codemirror_mode": {
    "name": "ipython",
    "version": 3
   },
   "file_extension": ".py",
   "mimetype": "text/x-python",
   "name": "python",
   "nbconvert_exporter": "python",
   "pygments_lexer": "ipython3",
   "version": "3.11.5"
  }
 },
 "nbformat": 4,
 "nbformat_minor": 2
}

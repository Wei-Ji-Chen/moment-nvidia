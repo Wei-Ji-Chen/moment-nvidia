{
 "cells": [
  {
   "cell_type": "code",
   "execution_count": null,
   "metadata": {},
   "outputs": [],
   "source": [
    "%load_ext autoreload\n",
    "%autoreload 2\n",
    "\n",
    "import torch\n",
    "import numpy as np\n",
    "import numpy.typing as npt\n",
    "import matplotlib.pyplot as plt\n",
    "\n",
    "from moment.utils.config import Config\n",
    "from moment.utils.utils import parse_config\n",
    "from moment.data.generate_synthetic_data import SyntheticDataset\n",
    "from moment.models.base import BaseModel\n",
    "from moment.models.moment import MOMENTNT"
   ]
  },
  {
   "cell_type": "markdown",
   "metadata": {},
   "source": [
    "### Defaults"
   ]
  },
  {
   "cell_type": "code",
   "execution_count": null,
   "metadata": {},
   "outputs": [],
   "source": [
    "DEFAULT_CONFIG_PATH = \"../../configs/default.yaml\"\n",
    "GPU_ID = 0\n",
    "run_name = \"fearless-planet-52\" # \"avid-moon-55\" \"proud-dust-41\" \"curious-blaze-53\""
   ]
  },
  {
   "cell_type": "code",
   "execution_count": null,
   "metadata": {},
   "outputs": [],
   "source": [
    "# with open('/home/extra_scratch/XXXX-2/moment_checkpoints/avid-moon-55/MOMENT_checkpoint_5000.pth', 'rb') as f:\n",
    "#     checkpoint = torch.load(f)\n",
    "checkpoint = BaseModel.load_pretrained_weights(run_name=run_name, opt_steps=None)\n",
    "\n",
    "config = Config(config_file_path=DEFAULT_CONFIG_PATH, default_config_file_path=DEFAULT_CONFIG_PATH).parse()\n",
    "config['device'] = GPU_ID if torch.cuda.is_available() else 'cpu'\n",
    "\n",
    "args = parse_config(config)\n",
    "model = MOMENT(configs=args)\n",
    "model.load_state_dict(checkpoint[\"model_state_dict\"])"
   ]
  },
  {
   "cell_type": "code",
   "execution_count": null,
   "metadata": {},
   "outputs": [],
   "source": [
    "prompt_embeds = model.initialize_soft_prompt()"
   ]
  },
  {
   "cell_type": "code",
   "execution_count": null,
   "metadata": {},
   "outputs": [],
   "source": [
    "# Make sure to freeze Tranformers model\n",
    "for name, param in model.named_parameters():\n",
    "    if \"soft\" not in name:\n",
    "        param.requires_grad = False"
   ]
  },
  {
   "cell_type": "code",
   "execution_count": null,
   "metadata": {},
   "outputs": [],
   "source": [
    "from moment.data.generate_synthetic_data import SyntheticDataset"
   ]
  },
  {
   "cell_type": "code",
   "execution_count": null,
   "metadata": {},
   "outputs": [],
   "source": [
    "synthetic_dataset = SyntheticDataset(n_samples=1024, freq=1, freq_range=(1, 32), \n",
    "                                     noise_mean=0., noise_std=0.1, random_seed=13)\n",
    "\n",
    "y, c = synthetic_dataset.gen_sinusoids_with_varying_freq()\n",
    "n_samples = synthetic_dataset.n_samples\n",
    "seq_len = synthetic_dataset.seq_len"
   ]
  },
  {
   "cell_type": "code",
   "execution_count": null,
   "metadata": {},
   "outputs": [],
   "source": [
    "y = y.to(args.device)\n",
    "model = model.to(args.device)\n",
    "input_mask = torch.ones((n_samples, seq_len)).to(args.device)\n",
    "\n",
    "model.eval()"
   ]
  },
  {
   "cell_type": "code",
   "execution_count": null,
   "metadata": {},
   "outputs": [],
   "source": [
    "with torch.no_grad():\n",
    "    outputs = model.reconstruct(x_enc=y, input_mask=input_mask, prompt_embeds=prompt_embeds)\n",
    "reconstruction = outputs.reconstruction.detach().cpu().numpy()"
   ]
  },
  {
   "cell_type": "code",
   "execution_count": null,
   "metadata": {},
   "outputs": [],
   "source": [
    "idx = np.random.randint(0, n_samples)\n",
    "plt.plot(y[idx, :].squeeze().detach().cpu().numpy(), label=\"True\")\n",
    "plt.plot(reconstruction[idx, :].squeeze(), label=\"Reconstruction\")\n",
    "plt.legend()"
   ]
  },
  {
   "cell_type": "code",
   "execution_count": null,
   "metadata": {},
   "outputs": [],
   "source": [
    "# Taken from XXXX\n",
    "\n",
    "import os\n",
    "from pathlib import Path\n",
    "import torch\n",
    "import torch.nn as nn\n",
    "\n",
    "class MOMENTPromptTuning:\n",
    "    @classmethod\n",
    "    def from_pretrained(\n",
    "        cls,\n",
    "        pretrained_model_name_or_path: str,\n",
    "        soft_prompt_path: str = None,\n",
    "        n_tokens: int = None,\n",
    "        initialize_from_vocab: bool = True,\n",
    "        random_range: float = 0.5,\n",
    "        **kwargs,\n",
    "    ):\n",
    "        model = super().from_pretrained(pretrained_model_name_or_path, **kwargs)\n",
    "\n",
    "        # Make sure to freeze Tranformers model\n",
    "        for param in model.parameters():\n",
    "            param.requires_grad = False\n",
    "\n",
    "        if soft_prompt_path is not None:\n",
    "            model.set_soft_prompt_embeds(soft_prompt_path)\n",
    "        elif n_tokens is not None:\n",
    "            print(\"Initializing soft prompt...\")\n",
    "            model.initialize_soft_prompt(\n",
    "                n_tokens=n_tokens,\n",
    "                initialize_from_vocab=initialize_from_vocab,\n",
    "                random_range=random_range,\n",
    "            )\n",
    "\n",
    "        return model\n",
    "\n",
    "    def set_soft_prompt_embeds(\n",
    "        self,\n",
    "        soft_prompt_path: str,\n",
    "    ) -> None:\n",
    "        \"\"\"\n",
    "        Args:\n",
    "            soft_prompt_path: torch soft prompt file path\n",
    "\n",
    "        \"\"\"\n",
    "        self.soft_prompt = torch.load(\n",
    "            soft_prompt_path, map_location=torch.device(\"cpu\")\n",
    "        )\n",
    "        self.n_tokens = self.soft_prompt.num_embeddings\n",
    "        print(f\"Set soft prompt! (n_tokens: {self.n_tokens})\")\n",
    "\n",
    "    def initialize_soft_prompt(\n",
    "        self,\n",
    "        n_tokens: int = 20,\n",
    "        random_range: float = 0.5,\n",
    "    ) -> None:\n",
    "        self.n_tokens = n_tokens\n",
    "        \n",
    "        init_prompt_value = torch.FloatTensor(2, 10).uniform_(\n",
    "            -random_range, random_range)\n",
    "        self.soft_prompt = nn.Embedding(n_tokens, self.config.n_embd)\n",
    "        # Initialize weight\n",
    "        self.soft_prompt.weight = nn.parameter.Parameter(init_prompt_value)\n",
    "\n",
    "    def _cat_learned_embedding_to_input(self, input_ids) -> torch.Tensor:\n",
    "        inputs_embeds = self.transformer.wte(input_ids)\n",
    "\n",
    "        if len(list(inputs_embeds.shape)) == 2:\n",
    "            inputs_embeds = inputs_embeds.unsqueeze(0)\n",
    "\n",
    "        # [batch_size, n_tokens, n_embd]\n",
    "        learned_embeds = self.soft_prompt.weight.repeat(inputs_embeds.size(0), 1, 1)\n",
    "\n",
    "        inputs_embeds = torch.cat([learned_embeds, inputs_embeds], dim=1)\n",
    "\n",
    "        return inputs_embeds\n",
    "\n",
    "    def _extend_labels(self, labels, ignore_index=-100) -> torch.Tensor:\n",
    "        if len(list(labels.shape)) == 1:\n",
    "            labels = labels.unsqueeze(0)\n",
    "\n",
    "        n_batches = labels.shape[0]\n",
    "        return torch.cat(\n",
    "            [\n",
    "                torch.full((n_batches, self.n_tokens), ignore_index).to(self.device),\n",
    "                labels,\n",
    "            ],\n",
    "            dim=1,\n",
    "        )\n",
    "\n",
    "    def _extend_attention_mask(self, attention_mask):\n",
    "\n",
    "        if len(list(attention_mask.shape)) == 1:\n",
    "            attention_mask = attention_mask.unsqueeze(0)\n",
    "\n",
    "        n_batches = attention_mask.shape[0]\n",
    "        return torch.cat(\n",
    "            [torch.full((n_batches, self.n_tokens), 1).to(self.device), attention_mask],\n",
    "            dim=1,\n",
    "        )\n",
    "\n",
    "    def save_soft_prompt(self, path: str, filename: str = \"soft_prompt.model\"):\n",
    "        Path(path).mkdir(parents=True, exist_ok=True)\n",
    "        torch.save(self.soft_prompt, os.path.join(path, filename))\n",
    "        # print(f\"Saved soft prompt: {os.path.join(path, filename)}\")\n",
    "\n",
    "    def forward(\n",
    "        self,\n",
    "        input_ids=None,\n",
    "        attention_mask=None,\n",
    "        inputs_embeds=None,\n",
    "        labels=None,\n",
    "        use_cache=None,\n",
    "        return_dict=None,\n",
    "    ):\n",
    "        if input_ids is not None:\n",
    "            inputs_embeds = self._cat_learned_embedding_to_input(input_ids).to(\n",
    "                self.device\n",
    "            )\n",
    "\n",
    "        if labels is not None:\n",
    "            labels = self._extend_labels(labels).to(self.device)\n",
    "\n",
    "        if attention_mask is not None:\n",
    "            attention_mask = self._extend_attention_mask(attention_mask).to(self.device)\n",
    "\n",
    "        # Drop most of the args for now\n",
    "        return super().forward(\n",
    "            attention_mask=attention_mask,\n",
    "            inputs_embeds=inputs_embeds,\n",
    "            labels=labels,\n",
    "            use_cache=use_cache,\n",
    "            return_dict=return_dict,\n",
    "        )"
   ]
  }
 ],
 "metadata": {
  "kernelspec": {
   "display_name": "Python 3",
   "language": "python",
   "name": "python3"
  },
  "language_info": {
   "codemirror_mode": {
    "name": "ipython",
    "version": 3
   },
   "file_extension": ".py",
   "mimetype": "text/x-python",
   "name": "python",
   "nbconvert_exporter": "python",
   "pygments_lexer": "ipython3",
   "version": "3.11.5"
  }
 },
 "nbformat": 4,
 "nbformat_minor": 2
}

{
 "cells": [
  {
   "cell_type": "code",
   "execution_count": 7,
   "metadata": {},
   "outputs": [],
   "source": [
    "from moment.utils.config import Config\n",
    "from moment.utils.utils import parse_config"
   ]
  },
  {
   "cell_type": "code",
   "execution_count": 5,
   "metadata": {},
   "outputs": [
    {
     "name": "stdout",
     "output_type": "stream",
     "text": [
      "Using default config for d_model : None\n"
     ]
    }
   ],
   "source": [
    "config = Config(config_file_path=\"../../configs/default.yaml\", \n",
    "                default_config_file_path=\"../../configs/default.yaml\").parse()"
   ]
  },
  {
   "cell_type": "code",
   "execution_count": 8,
   "metadata": {},
   "outputs": [
    {
     "data": {
      "text/plain": [
       "Namespace(random_seed=13, notes='', task_name='pre-training', model_name='MOMENT', seq_len=512, patch_len=8, patch_stride_len=8, scale=True, revin_affine=False, d_model=None, dropout=0.1, pretrained_model_name='google/flan-t5-base', randomly_initialize_encoder=True, torch_dtype='bfloat16', use_pretrained_model=True, use_patchtst_model=False, log_interval=50, checkpoint_interval=100000, mask_ratio=0.3, optimizer_name='AdamW', enable_gradient_checkpointing=True, max_norm=5, weight_decay=0.05, init_lr=0.0001, min_lr=1e-05, lr_decay_rate=0.9, warmup_lr=1e-05, warmup_steps=100, use_amp=True, max_opt_steps=5000000, max_epoch=50, data_stride_len=1, target_col='OT', train_ratio=0.6, val_ratio=0.1, test_ratio=0.3, upsampling_pad_directio='backward', upsampling_type='pad', downsampling_type='interpolate', pad_mode='constant', pad_constant_values=0, dataset_names='all', batch_size=2048, shuffle=True, num_workers=10, pin_memory=True, drop_last=False)"
      ]
     },
     "execution_count": 8,
     "metadata": {},
     "output_type": "execute_result"
    }
   ],
   "source": [
    "parse_config(config)"
   ]
  }
 ],
 "metadata": {
  "kernelspec": {
   "display_name": "Python 3",
   "language": "python",
   "name": "python3"
  },
  "language_info": {
   "codemirror_mode": {
    "name": "ipython",
    "version": 3
   },
   "file_extension": ".py",
   "mimetype": "text/x-python",
   "name": "python",
   "nbconvert_exporter": "python",
   "pygments_lexer": "ipython3",
   "version": "3.11.5"
  },
  "orig_nbformat": 4
 },
 "nbformat": 4,
 "nbformat_minor": 2
}

{
 "cells": [
  {
   "cell_type": "code",
   "execution_count": null,
   "metadata": {},
   "outputs": [],
   "source": [
    "import os\n",
    "from huggingface_hub import HfApi, snapshot_download\n",
    "\n",
    "os.environ['HF_HUB_DISABLE_EXPERIMENTAL_WARNING'] = '1'"
   ]
  },
  {
   "cell_type": "code",
   "execution_count": null,
   "metadata": {},
   "outputs": [],
   "source": [
    "dataset_name = 'Timeseries-PILE'\n",
    "dataset_path = '/XXXX-14/project/public/XXXX-9/TimeseriesDatasets/TimeseriesPile/'\n",
    "\n",
    "api = HfApi()\n",
    "api.create_repo(\n",
    "    repo_id=f'KonradSzafer/{dataset_name}',\n",
    "    repo_type='dataset',\n",
    "    private=True,\n",
    "    exist_ok=True\n",
    ")\n",
    "api.upload_folder(\n",
    "    folder_path=dataset_path,\n",
    "    repo_id=f'KonradSzafer/{dataset_name}',\n",
    "    repo_type='dataset',\n",
    "    multi_commits=True,\n",
    "    multi_commits_verbose=True,\n",
    ")"
   ]
  }
 ],
 "metadata": {
  "kernelspec": {
   "display_name": "bett",
   "language": "python",
   "name": "python3"
  },
  "language_info": {
   "codemirror_mode": {
    "name": "ipython",
    "version": 3
   },
   "file_extension": ".py",
   "mimetype": "text/x-python",
   "name": "python",
   "nbconvert_exporter": "python",
   "pygments_lexer": "ipython3",
   "version": "3.11.5"
  }
 },
 "nbformat": 4,
 "nbformat_minor": 2
}

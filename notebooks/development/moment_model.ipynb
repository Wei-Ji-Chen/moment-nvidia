{
 "cells": [
  {
   "cell_type": "code",
   "execution_count": 3,
   "metadata": {},
   "outputs": [
    {
     "name": "stdout",
     "output_type": "stream",
     "text": [
      "The autoreload extension is already loaded. To reload it, use:\n",
      "  %reload_ext autoreload\n"
     ]
    }
   ],
   "source": [
    "%load_ext autoreload\n",
    "%autoreload 2\n",
    "\n",
    "import os\n",
    "import sys\n",
    "\n",
    "sys.path.append(os.path.abspath(os.path.join('../../')))"
   ]
  },
  {
   "cell_type": "code",
   "execution_count": 4,
   "metadata": {},
   "outputs": [
    {
     "name": "stderr",
     "output_type": "stream",
     "text": [
      "Some weights of the model checkpoint at google/flan-t5-base were not used when initializing T5EncoderModel: ['decoder.block.9.layer.1.EncDecAttention.k.weight', 'decoder.block.3.layer.2.layer_norm.weight', 'decoder.block.9.layer.2.DenseReluDense.wi_0.weight', 'decoder.block.9.layer.0.SelfAttention.k.weight', 'decoder.block.8.layer.0.SelfAttention.k.weight', 'decoder.block.4.layer.2.DenseReluDense.wi_0.weight', 'decoder.block.0.layer.0.SelfAttention.q.weight', 'decoder.block.6.layer.1.EncDecAttention.o.weight', 'decoder.block.3.layer.1.EncDecAttention.k.weight', 'decoder.block.11.layer.2.DenseReluDense.wi_1.weight', 'decoder.block.5.layer.1.layer_norm.weight', 'decoder.block.6.layer.0.SelfAttention.k.weight', 'decoder.block.8.layer.1.layer_norm.weight', 'decoder.block.0.layer.2.DenseReluDense.wi_0.weight', 'decoder.block.2.layer.1.EncDecAttention.v.weight', 'decoder.block.4.layer.2.layer_norm.weight', 'decoder.block.4.layer.0.SelfAttention.v.weight', 'decoder.block.7.layer.1.EncDecAttention.o.weight', 'decoder.block.8.layer.1.EncDecAttention.v.weight', 'decoder.block.8.layer.2.DenseReluDense.wi_0.weight', 'decoder.block.8.layer.0.layer_norm.weight', 'decoder.block.7.layer.1.layer_norm.weight', 'decoder.block.0.layer.0.SelfAttention.k.weight', 'decoder.block.11.layer.0.SelfAttention.v.weight', 'decoder.block.0.layer.1.EncDecAttention.k.weight', 'decoder.block.11.layer.1.EncDecAttention.o.weight', 'decoder.block.6.layer.1.layer_norm.weight', 'decoder.block.9.layer.1.EncDecAttention.o.weight', 'decoder.block.1.layer.0.SelfAttention.k.weight', 'decoder.block.11.layer.2.DenseReluDense.wi_0.weight', 'decoder.block.1.layer.1.EncDecAttention.v.weight', 'decoder.block.10.layer.2.layer_norm.weight', 'decoder.block.6.layer.0.SelfAttention.o.weight', 'decoder.block.5.layer.2.DenseReluDense.wi_1.weight', 'decoder.block.6.layer.0.layer_norm.weight', 'decoder.block.9.layer.2.DenseReluDense.wo.weight', 'decoder.block.7.layer.2.layer_norm.weight', 'decoder.block.0.layer.1.EncDecAttention.v.weight', 'decoder.block.1.layer.2.layer_norm.weight', 'decoder.block.10.layer.0.layer_norm.weight', 'decoder.block.9.layer.0.layer_norm.weight', 'decoder.block.4.layer.0.SelfAttention.k.weight', 'decoder.block.0.layer.0.SelfAttention.relative_attention_bias.weight', 'decoder.block.3.layer.1.EncDecAttention.v.weight', 'decoder.block.1.layer.0.SelfAttention.v.weight', 'decoder.block.10.layer.0.SelfAttention.o.weight', 'decoder.block.7.layer.0.SelfAttention.k.weight', 'decoder.block.10.layer.0.SelfAttention.v.weight', 'decoder.block.11.layer.0.SelfAttention.k.weight', 'decoder.block.9.layer.0.SelfAttention.q.weight', 'decoder.block.0.layer.2.DenseReluDense.wo.weight', 'decoder.block.5.layer.0.SelfAttention.k.weight', 'decoder.block.8.layer.0.SelfAttention.q.weight', 'decoder.block.3.layer.0.SelfAttention.q.weight', 'decoder.block.1.layer.0.SelfAttention.o.weight', 'decoder.block.4.layer.0.SelfAttention.q.weight', 'decoder.block.5.layer.1.EncDecAttention.k.weight', 'decoder.block.2.layer.0.layer_norm.weight', 'decoder.block.2.layer.2.DenseReluDense.wo.weight', 'decoder.block.6.layer.2.DenseReluDense.wo.weight', 'decoder.block.9.layer.2.DenseReluDense.wi_1.weight', 'decoder.block.4.layer.1.EncDecAttention.q.weight', 'decoder.block.2.layer.0.SelfAttention.o.weight', 'decoder.block.5.layer.0.SelfAttention.v.weight', 'decoder.block.11.layer.2.layer_norm.weight', 'decoder.block.9.layer.1.EncDecAttention.q.weight', 'decoder.block.6.layer.2.DenseReluDense.wi_1.weight', 'decoder.block.11.layer.0.layer_norm.weight', 'decoder.block.3.layer.0.SelfAttention.o.weight', 'decoder.block.2.layer.1.EncDecAttention.k.weight', 'decoder.block.7.layer.0.SelfAttention.o.weight', 'decoder.block.1.layer.2.DenseReluDense.wo.weight', 'decoder.block.7.layer.1.EncDecAttention.v.weight', 'decoder.block.10.layer.2.DenseReluDense.wi_1.weight', 'decoder.block.1.layer.1.EncDecAttention.q.weight', 'decoder.block.2.layer.0.SelfAttention.k.weight', 'decoder.block.6.layer.0.SelfAttention.q.weight', 'decoder.block.6.layer.1.EncDecAttention.v.weight', 'decoder.block.5.layer.2.DenseReluDense.wo.weight', 'decoder.block.5.layer.1.EncDecAttention.q.weight', 'decoder.block.1.layer.1.EncDecAttention.k.weight', 'decoder.block.7.layer.1.EncDecAttention.q.weight', 'decoder.block.7.layer.0.SelfAttention.q.weight', 'decoder.block.7.layer.0.layer_norm.weight', 'decoder.block.5.layer.1.EncDecAttention.o.weight', 'decoder.block.5.layer.1.EncDecAttention.v.weight', 'decoder.block.7.layer.1.EncDecAttention.k.weight', 'decoder.block.1.layer.0.SelfAttention.q.weight', 'decoder.block.2.layer.0.SelfAttention.q.weight', 'decoder.block.9.layer.0.SelfAttention.o.weight', 'decoder.block.10.layer.1.EncDecAttention.v.weight', 'decoder.block.10.layer.0.SelfAttention.k.weight', 'decoder.block.4.layer.2.DenseReluDense.wo.weight', 'decoder.block.4.layer.0.layer_norm.weight', 'decoder.block.7.layer.0.SelfAttention.v.weight', 'decoder.block.0.layer.2.layer_norm.weight', 'decoder.block.0.layer.1.layer_norm.weight', 'decoder.block.0.layer.2.DenseReluDense.wi_1.weight', 'decoder.block.2.layer.1.layer_norm.weight', 'decoder.block.5.layer.0.SelfAttention.o.weight', 'decoder.block.4.layer.2.DenseReluDense.wi_1.weight', 'decoder.block.2.layer.2.layer_norm.weight', 'decoder.block.4.layer.1.layer_norm.weight', 'decoder.block.8.layer.1.EncDecAttention.k.weight', 'decoder.block.9.layer.1.EncDecAttention.v.weight', 'decoder.block.9.layer.1.layer_norm.weight', 'decoder.block.8.layer.0.SelfAttention.o.weight', 'decoder.block.3.layer.2.DenseReluDense.wo.weight', 'decoder.block.6.layer.1.EncDecAttention.q.weight', 'decoder.block.11.layer.1.EncDecAttention.k.weight', 'decoder.block.8.layer.1.EncDecAttention.o.weight', 'decoder.block.7.layer.2.DenseReluDense.wo.weight', 'decoder.block.3.layer.2.DenseReluDense.wi_0.weight', 'decoder.block.11.layer.2.DenseReluDense.wo.weight', 'decoder.block.11.layer.1.EncDecAttention.v.weight', 'decoder.block.5.layer.0.SelfAttention.q.weight', 'decoder.block.1.layer.1.EncDecAttention.o.weight', 'decoder.final_layer_norm.weight', 'decoder.block.1.layer.0.layer_norm.weight', 'decoder.block.10.layer.2.DenseReluDense.wo.weight', 'decoder.block.6.layer.1.EncDecAttention.k.weight', 'decoder.block.3.layer.0.layer_norm.weight', 'lm_head.weight', 'decoder.block.11.layer.1.layer_norm.weight', 'decoder.block.11.layer.1.EncDecAttention.q.weight', 'decoder.block.11.layer.0.SelfAttention.q.weight', 'decoder.block.1.layer.2.DenseReluDense.wi_0.weight', 'decoder.block.7.layer.2.DenseReluDense.wi_0.weight', 'decoder.block.8.layer.0.SelfAttention.v.weight', 'decoder.block.5.layer.0.layer_norm.weight', 'decoder.block.1.layer.1.layer_norm.weight', 'decoder.block.0.layer.1.EncDecAttention.q.weight', 'decoder.block.2.layer.0.SelfAttention.v.weight', 'decoder.block.6.layer.2.DenseReluDense.wi_0.weight', 'decoder.block.4.layer.1.EncDecAttention.v.weight', 'decoder.block.8.layer.2.DenseReluDense.wi_1.weight', 'decoder.block.8.layer.2.DenseReluDense.wo.weight', 'decoder.block.2.layer.1.EncDecAttention.o.weight', 'decoder.block.10.layer.0.SelfAttention.q.weight', 'decoder.block.7.layer.2.DenseReluDense.wi_1.weight', 'decoder.block.3.layer.0.SelfAttention.k.weight', 'decoder.block.3.layer.0.SelfAttention.v.weight', 'decoder.block.10.layer.2.DenseReluDense.wi_0.weight', 'decoder.block.9.layer.2.layer_norm.weight', 'decoder.block.5.layer.2.DenseReluDense.wi_0.weight', 'decoder.block.2.layer.1.EncDecAttention.q.weight', 'decoder.block.3.layer.1.EncDecAttention.o.weight', 'decoder.block.3.layer.1.EncDecAttention.q.weight', 'decoder.block.0.layer.0.SelfAttention.v.weight', 'decoder.block.0.layer.1.EncDecAttention.o.weight', 'decoder.block.4.layer.0.SelfAttention.o.weight', 'decoder.block.9.layer.0.SelfAttention.v.weight', 'decoder.block.4.layer.1.EncDecAttention.o.weight', 'decoder.block.0.layer.0.SelfAttention.o.weight', 'decoder.block.5.layer.2.layer_norm.weight', 'decoder.block.6.layer.2.layer_norm.weight', 'decoder.block.8.layer.1.EncDecAttention.q.weight', 'decoder.block.3.layer.2.DenseReluDense.wi_1.weight', 'decoder.block.1.layer.2.DenseReluDense.wi_1.weight', 'decoder.block.0.layer.0.layer_norm.weight', 'decoder.block.10.layer.1.EncDecAttention.k.weight', 'decoder.block.2.layer.2.DenseReluDense.wi_0.weight', 'decoder.block.3.layer.1.layer_norm.weight', 'decoder.block.10.layer.1.EncDecAttention.o.weight', 'decoder.block.10.layer.1.layer_norm.weight', 'decoder.block.11.layer.0.SelfAttention.o.weight', 'decoder.block.4.layer.1.EncDecAttention.k.weight', 'decoder.block.2.layer.2.DenseReluDense.wi_1.weight', 'decoder.block.8.layer.2.layer_norm.weight', 'decoder.block.6.layer.0.SelfAttention.v.weight', 'decoder.block.10.layer.1.EncDecAttention.q.weight']\n",
      "- This IS expected if you are initializing T5EncoderModel from the checkpoint of a model trained on another task or with another architecture (e.g. initializing a BertForSequenceClassification model from a BertForPreTraining model).\n",
      "- This IS NOT expected if you are initializing T5EncoderModel from the checkpoint of a model that you expect to be exactly identical (initializing a BertForSequenceClassification model from a BertForSequenceClassification model).\n"
     ]
    }
   ],
   "source": [
    "from transformers import T5EncoderModel\n",
    "        \n",
    "encoder = T5EncoderModel.from_pretrained(\"google/flan-t5-base\").get_encoder()"
   ]
  },
  {
   "cell_type": "code",
   "execution_count": 5,
   "metadata": {},
   "outputs": [
    {
     "data": {
      "text/plain": [
       "T5Stack(\n",
       "  (embed_tokens): Embedding(32128, 768)\n",
       "  (block): ModuleList(\n",
       "    (0): T5Block(\n",
       "      (layer): ModuleList(\n",
       "        (0): T5LayerSelfAttention(\n",
       "          (SelfAttention): T5Attention(\n",
       "            (q): Linear(in_features=768, out_features=768, bias=False)\n",
       "            (k): Linear(in_features=768, out_features=768, bias=False)\n",
       "            (v): Linear(in_features=768, out_features=768, bias=False)\n",
       "            (o): Linear(in_features=768, out_features=768, bias=False)\n",
       "            (relative_attention_bias): Embedding(32, 12)\n",
       "          )\n",
       "          (layer_norm): T5LayerNorm()\n",
       "          (dropout): Dropout(p=0.1, inplace=False)\n",
       "        )\n",
       "        (1): T5LayerFF(\n",
       "          (DenseReluDense): T5DenseGatedActDense(\n",
       "            (wi_0): Linear(in_features=768, out_features=2048, bias=False)\n",
       "            (wi_1): Linear(in_features=768, out_features=2048, bias=False)\n",
       "            (wo): Linear(in_features=2048, out_features=768, bias=False)\n",
       "            (dropout): Dropout(p=0.1, inplace=False)\n",
       "            (act): NewGELUActivation()\n",
       "          )\n",
       "          (layer_norm): T5LayerNorm()\n",
       "          (dropout): Dropout(p=0.1, inplace=False)\n",
       "        )\n",
       "      )\n",
       "    )\n",
       "    (1-11): 11 x T5Block(\n",
       "      (layer): ModuleList(\n",
       "        (0): T5LayerSelfAttention(\n",
       "          (SelfAttention): T5Attention(\n",
       "            (q): Linear(in_features=768, out_features=768, bias=False)\n",
       "            (k): Linear(in_features=768, out_features=768, bias=False)\n",
       "            (v): Linear(in_features=768, out_features=768, bias=False)\n",
       "            (o): Linear(in_features=768, out_features=768, bias=False)\n",
       "          )\n",
       "          (layer_norm): T5LayerNorm()\n",
       "          (dropout): Dropout(p=0.1, inplace=False)\n",
       "        )\n",
       "        (1): T5LayerFF(\n",
       "          (DenseReluDense): T5DenseGatedActDense(\n",
       "            (wi_0): Linear(in_features=768, out_features=2048, bias=False)\n",
       "            (wi_1): Linear(in_features=768, out_features=2048, bias=False)\n",
       "            (wo): Linear(in_features=2048, out_features=768, bias=False)\n",
       "            (dropout): Dropout(p=0.1, inplace=False)\n",
       "            (act): NewGELUActivation()\n",
       "          )\n",
       "          (layer_norm): T5LayerNorm()\n",
       "          (dropout): Dropout(p=0.1, inplace=False)\n",
       "        )\n",
       "      )\n",
       "    )\n",
       "  )\n",
       "  (final_layer_norm): T5LayerNorm()\n",
       "  (dropout): Dropout(p=0.1, inplace=False)\n",
       ")"
      ]
     },
     "execution_count": 5,
     "metadata": {},
     "output_type": "execute_result"
    }
   ],
   "source": [
    "encoder"
   ]
  },
  {
   "cell_type": "code",
   "execution_count": 6,
   "metadata": {},
   "outputs": [
    {
     "name": "stdout",
     "output_type": "stream",
     "text": [
      "embed_tokens.weight torch.Size([32128, 768])\n",
      "block.0.layer.0.selfattention.q.weight torch.Size([768, 768])\n",
      "block.0.layer.0.selfattention.k.weight torch.Size([768, 768])\n",
      "block.0.layer.0.selfattention.v.weight torch.Size([768, 768])\n",
      "block.0.layer.0.selfattention.o.weight torch.Size([768, 768])\n",
      "block.0.layer.0.selfattention.relative_attention_bias.weight torch.Size([32, 12])\n",
      "block.0.layer.0.layer_norm.weight torch.Size([768])\n",
      "block.0.layer.1.densereludense.wi_0.weight torch.Size([2048, 768])\n",
      "block.0.layer.1.densereludense.wi_1.weight torch.Size([2048, 768])\n",
      "block.0.layer.1.densereludense.wo.weight torch.Size([768, 2048])\n",
      "block.0.layer.1.layer_norm.weight torch.Size([768])\n",
      "block.1.layer.0.selfattention.q.weight torch.Size([768, 768])\n",
      "block.1.layer.0.selfattention.k.weight torch.Size([768, 768])\n",
      "block.1.layer.0.selfattention.v.weight torch.Size([768, 768])\n",
      "block.1.layer.0.selfattention.o.weight torch.Size([768, 768])\n",
      "block.1.layer.0.layer_norm.weight torch.Size([768])\n",
      "block.1.layer.1.densereludense.wi_0.weight torch.Size([2048, 768])\n",
      "block.1.layer.1.densereludense.wi_1.weight torch.Size([2048, 768])\n",
      "block.1.layer.1.densereludense.wo.weight torch.Size([768, 2048])\n",
      "block.1.layer.1.layer_norm.weight torch.Size([768])\n",
      "block.2.layer.0.selfattention.q.weight torch.Size([768, 768])\n",
      "block.2.layer.0.selfattention.k.weight torch.Size([768, 768])\n",
      "block.2.layer.0.selfattention.v.weight torch.Size([768, 768])\n",
      "block.2.layer.0.selfattention.o.weight torch.Size([768, 768])\n",
      "block.2.layer.0.layer_norm.weight torch.Size([768])\n",
      "block.2.layer.1.densereludense.wi_0.weight torch.Size([2048, 768])\n",
      "block.2.layer.1.densereludense.wi_1.weight torch.Size([2048, 768])\n",
      "block.2.layer.1.densereludense.wo.weight torch.Size([768, 2048])\n",
      "block.2.layer.1.layer_norm.weight torch.Size([768])\n",
      "block.3.layer.0.selfattention.q.weight torch.Size([768, 768])\n",
      "block.3.layer.0.selfattention.k.weight torch.Size([768, 768])\n",
      "block.3.layer.0.selfattention.v.weight torch.Size([768, 768])\n",
      "block.3.layer.0.selfattention.o.weight torch.Size([768, 768])\n",
      "block.3.layer.0.layer_norm.weight torch.Size([768])\n",
      "block.3.layer.1.densereludense.wi_0.weight torch.Size([2048, 768])\n",
      "block.3.layer.1.densereludense.wi_1.weight torch.Size([2048, 768])\n",
      "block.3.layer.1.densereludense.wo.weight torch.Size([768, 2048])\n",
      "block.3.layer.1.layer_norm.weight torch.Size([768])\n",
      "block.4.layer.0.selfattention.q.weight torch.Size([768, 768])\n",
      "block.4.layer.0.selfattention.k.weight torch.Size([768, 768])\n",
      "block.4.layer.0.selfattention.v.weight torch.Size([768, 768])\n",
      "block.4.layer.0.selfattention.o.weight torch.Size([768, 768])\n",
      "block.4.layer.0.layer_norm.weight torch.Size([768])\n",
      "block.4.layer.1.densereludense.wi_0.weight torch.Size([2048, 768])\n",
      "block.4.layer.1.densereludense.wi_1.weight torch.Size([2048, 768])\n",
      "block.4.layer.1.densereludense.wo.weight torch.Size([768, 2048])\n",
      "block.4.layer.1.layer_norm.weight torch.Size([768])\n",
      "block.5.layer.0.selfattention.q.weight torch.Size([768, 768])\n",
      "block.5.layer.0.selfattention.k.weight torch.Size([768, 768])\n",
      "block.5.layer.0.selfattention.v.weight torch.Size([768, 768])\n",
      "block.5.layer.0.selfattention.o.weight torch.Size([768, 768])\n",
      "block.5.layer.0.layer_norm.weight torch.Size([768])\n",
      "block.5.layer.1.densereludense.wi_0.weight torch.Size([2048, 768])\n",
      "block.5.layer.1.densereludense.wi_1.weight torch.Size([2048, 768])\n",
      "block.5.layer.1.densereludense.wo.weight torch.Size([768, 2048])\n",
      "block.5.layer.1.layer_norm.weight torch.Size([768])\n",
      "block.6.layer.0.selfattention.q.weight torch.Size([768, 768])\n",
      "block.6.layer.0.selfattention.k.weight torch.Size([768, 768])\n",
      "block.6.layer.0.selfattention.v.weight torch.Size([768, 768])\n",
      "block.6.layer.0.selfattention.o.weight torch.Size([768, 768])\n",
      "block.6.layer.0.layer_norm.weight torch.Size([768])\n",
      "block.6.layer.1.densereludense.wi_0.weight torch.Size([2048, 768])\n",
      "block.6.layer.1.densereludense.wi_1.weight torch.Size([2048, 768])\n",
      "block.6.layer.1.densereludense.wo.weight torch.Size([768, 2048])\n",
      "block.6.layer.1.layer_norm.weight torch.Size([768])\n",
      "block.7.layer.0.selfattention.q.weight torch.Size([768, 768])\n",
      "block.7.layer.0.selfattention.k.weight torch.Size([768, 768])\n",
      "block.7.layer.0.selfattention.v.weight torch.Size([768, 768])\n",
      "block.7.layer.0.selfattention.o.weight torch.Size([768, 768])\n",
      "block.7.layer.0.layer_norm.weight torch.Size([768])\n",
      "block.7.layer.1.densereludense.wi_0.weight torch.Size([2048, 768])\n",
      "block.7.layer.1.densereludense.wi_1.weight torch.Size([2048, 768])\n",
      "block.7.layer.1.densereludense.wo.weight torch.Size([768, 2048])\n",
      "block.7.layer.1.layer_norm.weight torch.Size([768])\n",
      "block.8.layer.0.selfattention.q.weight torch.Size([768, 768])\n",
      "block.8.layer.0.selfattention.k.weight torch.Size([768, 768])\n",
      "block.8.layer.0.selfattention.v.weight torch.Size([768, 768])\n",
      "block.8.layer.0.selfattention.o.weight torch.Size([768, 768])\n",
      "block.8.layer.0.layer_norm.weight torch.Size([768])\n",
      "block.8.layer.1.densereludense.wi_0.weight torch.Size([2048, 768])\n",
      "block.8.layer.1.densereludense.wi_1.weight torch.Size([2048, 768])\n",
      "block.8.layer.1.densereludense.wo.weight torch.Size([768, 2048])\n",
      "block.8.layer.1.layer_norm.weight torch.Size([768])\n",
      "block.9.layer.0.selfattention.q.weight torch.Size([768, 768])\n",
      "block.9.layer.0.selfattention.k.weight torch.Size([768, 768])\n",
      "block.9.layer.0.selfattention.v.weight torch.Size([768, 768])\n",
      "block.9.layer.0.selfattention.o.weight torch.Size([768, 768])\n",
      "block.9.layer.0.layer_norm.weight torch.Size([768])\n",
      "block.9.layer.1.densereludense.wi_0.weight torch.Size([2048, 768])\n",
      "block.9.layer.1.densereludense.wi_1.weight torch.Size([2048, 768])\n",
      "block.9.layer.1.densereludense.wo.weight torch.Size([768, 2048])\n",
      "block.9.layer.1.layer_norm.weight torch.Size([768])\n",
      "block.10.layer.0.selfattention.q.weight torch.Size([768, 768])\n",
      "block.10.layer.0.selfattention.k.weight torch.Size([768, 768])\n",
      "block.10.layer.0.selfattention.v.weight torch.Size([768, 768])\n",
      "block.10.layer.0.selfattention.o.weight torch.Size([768, 768])\n",
      "block.10.layer.0.layer_norm.weight torch.Size([768])\n",
      "block.10.layer.1.densereludense.wi_0.weight torch.Size([2048, 768])\n",
      "block.10.layer.1.densereludense.wi_1.weight torch.Size([2048, 768])\n",
      "block.10.layer.1.densereludense.wo.weight torch.Size([768, 2048])\n",
      "block.10.layer.1.layer_norm.weight torch.Size([768])\n",
      "block.11.layer.0.selfattention.q.weight torch.Size([768, 768])\n",
      "block.11.layer.0.selfattention.k.weight torch.Size([768, 768])\n",
      "block.11.layer.0.selfattention.v.weight torch.Size([768, 768])\n",
      "block.11.layer.0.selfattention.o.weight torch.Size([768, 768])\n",
      "block.11.layer.0.layer_norm.weight torch.Size([768])\n",
      "block.11.layer.1.densereludense.wi_0.weight torch.Size([2048, 768])\n",
      "block.11.layer.1.densereludense.wi_1.weight torch.Size([2048, 768])\n",
      "block.11.layer.1.densereludense.wo.weight torch.Size([768, 2048])\n",
      "block.11.layer.1.layer_norm.weight torch.Size([768])\n",
      "final_layer_norm.weight torch.Size([768])\n"
     ]
    }
   ],
   "source": [
    "for name, p in encoder.named_parameters():\n",
    "    name = name.lower()\n",
    "    print(name, p.shape)"
   ]
  }
 ],
 "metadata": {
  "kernelspec": {
   "display_name": "Python 3",
   "language": "python",
   "name": "python3"
  },
  "language_info": {
   "codemirror_mode": {
    "name": "ipython",
    "version": 3
   },
   "file_extension": ".py",
   "mimetype": "text/x-python",
   "name": "python",
   "nbconvert_exporter": "python",
   "pygments_lexer": "ipython3",
   "version": "3.9.16"
  },
  "orig_nbformat": 4
 },
 "nbformat": 4,
 "nbformat_minor": 2
}

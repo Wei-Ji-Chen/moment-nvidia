{
 "cells": [
  {
   "cell_type": "code",
   "execution_count": null,
   "metadata": {},
   "outputs": [],
   "source": [
    "%load_ext autoreload\n",
    "%autoreload 2\n",
    "\n",
    "import os\n",
    "import sys\n",
    "\n",
    "import numpy as np\n",
    "import pandas as pd\n",
    "import matplotlib.pyplot as plt\n",
    "\n",
    "sys.path.append(os.path.abspath(os.path.join('../../')))\n",
    "from moment.common import PATHS\n",
    "from moment.data.load_data import load_from_tsfile\n",
    "from moment.data.classification_datasets import \\\n",
    "    get_classification_datasets, ClassificationDataset"
   ]
  },
  {
   "cell_type": "code",
   "execution_count": null,
   "metadata": {},
   "outputs": [],
   "source": [
    "classification_dataset_paths = get_classification_datasets()"
   ]
  },
  {
   "cell_type": "code",
   "execution_count": null,
   "metadata": {},
   "outputs": [],
   "source": [
    "[i for i in classification_dataset_paths if 'Character' in i]"
   ]
  },
  {
   "cell_type": "code",
   "execution_count": null,
   "metadata": {},
   "outputs": [],
   "source": [
    "dataset = ClassificationDataset(\n",
    "    full_file_path_and_name='/XXXX-14/project/public/XXXX-9/TimeseriesDatasets/classification/UCR/CharacterTrajectories/CharacterTrajectories_TEST.ts',\n",
    "    seq_len=512,\n",
    "    data_split='train',\n",
    "    scale=True, task='classification',\n",
    "    train_ratio= 0.6, val_ratio= 0.1, test_ratio= 0.3,\n",
    "    output_type='univariate', padding='interpolate')"
   ]
  },
  {
   "cell_type": "code",
   "execution_count": null,
   "metadata": {},
   "outputs": [],
   "source": []
  },
  {
   "cell_type": "code",
   "execution_count": null,
   "metadata": {},
   "outputs": [],
   "source": [
    "idx = np.random.randint(0, len(dataset))\n",
    "tmp = dataset.__getitem__(idx)"
   ]
  },
  {
   "cell_type": "code",
   "execution_count": null,
   "metadata": {},
   "outputs": [],
   "source": [
    "idx = np.random.randint(0, len(dataset))\n",
    "dataset.plot(idx)"
   ]
  },
  {
   "cell_type": "code",
   "execution_count": null,
   "metadata": {},
   "outputs": [],
   "source": [
    "\n",
    "dataset = ClassificationDataset(\n",
    "    full_file_path_and_name=classification_dataset_paths[12],\n",
    "    seq_len=512,\n",
    "    data_split='train',\n",
    "    scale=True, task='classification',\n",
    "    train_ratio= 0.6, val_ratio= 0.1, test_ratio= 0.3,\n",
    "    output_type='univariate', padding='interpolate')"
   ]
  }
 ],
 "metadata": {
  "kernelspec": {
   "display_name": "Python 3",
   "language": "python",
   "name": "python3"
  },
  "language_info": {
   "codemirror_mode": {
    "name": "ipython",
    "version": 3
   },
   "file_extension": ".py",
   "mimetype": "text/x-python",
   "name": "python",
   "nbconvert_exporter": "python",
   "pygments_lexer": "ipython3",
   "version": "3.10.9"
  },
  "orig_nbformat": 4
 },
 "nbformat": 4,
 "nbformat_minor": 2
}

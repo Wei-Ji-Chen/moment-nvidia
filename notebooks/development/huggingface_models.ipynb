{
 "cells": [
  {
   "cell_type": "code",
   "execution_count": 1,
   "metadata": {},
   "outputs": [],
   "source": [
    "%load_ext autoreload\n",
    "%autoreload 2"
   ]
  },
  {
   "cell_type": "code",
   "execution_count": 24,
   "metadata": {},
   "outputs": [],
   "source": [
    "for (name, param), (c_name, c_param) in zip(model.named_parameters(), model_config.named_parameters()):\n",
    "    if (name == c_name) and c_param.shape == param.shape:\n",
    "        # print(name, param.shape)\n",
    "        pass\n",
    "    else:\n",
    "        print(name, param.shape, c_name, c_param.shape)"
   ]
  },
  {
   "cell_type": "code",
   "execution_count": 20,
   "metadata": {},
   "outputs": [
    {
     "name": "stdout",
     "output_type": "stream",
     "text": [
      "['chennai']\n"
     ]
    }
   ],
   "source": [
    "from transformers import AutoModelForSeq2SeqLM, AutoTokenizer\n",
    "\n",
    "cache_dir = \"/home/extra_scratch/XXXX-2/.cache/huggingface\"\n",
    "model = AutoModelForSeq2SeqLM.from_pretrained(\"google/flan-t5-base\", cache_dir=cache_dir)\n",
    "tokenizer = AutoTokenizer.from_pretrained(\"google/flan-t5-base\", cache_dir=cache_dir)\n",
    "\n",
    "inputs = tokenizer(\"What is the capital of India? \", return_tensors=\"pt\")\n",
    "outputs = model.generate(**inputs)\n",
    "print(tokenizer.batch_decode(outputs, skip_special_tokens=True))"
   ]
  }
 ],
 "metadata": {
  "kernelspec": {
   "display_name": "Python 3",
   "language": "python",
   "name": "python3"
  },
  "language_info": {
   "codemirror_mode": {
    "name": "ipython",
    "version": 3
   },
   "file_extension": ".py",
   "mimetype": "text/x-python",
   "name": "python",
   "nbconvert_exporter": "python",
   "pygments_lexer": "ipython3",
   "version": "3.11.5"
  },
  "orig_nbformat": 4
 },
 "nbformat": 4,
 "nbformat_minor": 2
}

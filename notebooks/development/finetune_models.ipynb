{
 "cells": [
  {
   "cell_type": "code",
   "execution_count": null,
   "metadata": {},
   "outputs": [],
   "source": [
    "%load_ext autoreload\n",
    "%autoreload 2\n",
    "\n",
    "from typing import Optional\n",
    "\n",
    "import torch\n",
    "import numpy as np\n",
    "import numpy.typing as npt\n",
    "import matplotlib.pyplot as plt\n",
    "from tqdm import tqdm\n",
    "\n",
    "from moment.utils.config import Config\n",
    "from moment.utils.utils import parse_config\n",
    "from moment.data.forecasting_datasets import get_forecasting_datasets, LongForecastingDataset\n",
    "from moment.data.dataloader import get_timeseries_dataloader\n",
    "from moment.models.base import BaseModel\n",
    "from moment.models.moment import MOMENT"
   ]
  },
  {
   "cell_type": "code",
   "execution_count": null,
   "metadata": {},
   "outputs": [],
   "source": [
    "forecasting_datasets = get_forecasting_datasets(collection=\"autoformer\")\n",
    "forecasting_datasets"
   ]
  },
  {
   "cell_type": "code",
   "execution_count": null,
   "metadata": {},
   "outputs": [],
   "source": [
    "# Load the model\n",
    "DEFAULT_CONFIG_PATH = \"../../configs/default.yaml\"\n",
    "CONGIF_PATH = \"../../configs/forecasting/linear_probing.yaml\"\n",
    "GPU_ID = 3\n",
    "# run_name = \"fast-pyramid-63\" # \"avid-moon-55\" \"proud-dust-41\" \"curious-blaze-53\" \"laced-firebrand-51\" \"prime-music-50\" \"fast-pyramid-63\" \"fearless-planet-52\"\n",
    "run_name = \"fancy-music-127\" # \"peach-sponge-95\""
   ]
  },
  {
   "cell_type": "code",
   "execution_count": null,
   "metadata": {},
   "outputs": [],
   "source": [
    "config = Config(config_file_path=CONGIF_PATH, \n",
    "                default_config_file_path=DEFAULT_CONFIG_PATH,\n",
    "                verbose=False).parse()\n",
    "config['device'] = GPU_ID if torch.cuda.is_available() else 'cpu'\n",
    "\n",
    "args = parse_config(config)"
   ]
  },
  {
   "cell_type": "code",
   "execution_count": null,
   "metadata": {},
   "outputs": [],
   "source": [
    "from moment.tasks.forecast_finetune import ForecastFinetuning\n",
    "task_obj = ForecastFinetuning(args=args)"
   ]
  },
  {
   "cell_type": "code",
   "execution_count": null,
   "metadata": {},
   "outputs": [],
   "source": [
    "task_obj.model.encoder"
   ]
  },
  {
   "cell_type": "code",
   "execution_count": null,
   "metadata": {},
   "outputs": [],
   "source": [
    "task_obj.load_pretrained_moment()"
   ]
  },
  {
   "cell_type": "code",
   "execution_count": null,
   "metadata": {},
   "outputs": [],
   "source": [
    "task_obj.train_dataloader.dataset"
   ]
  },
  {
   "cell_type": "code",
   "execution_count": null,
   "metadata": {},
   "outputs": [],
   "source": [
    "task_obj.val_dataloader.dataset"
   ]
  },
  {
   "cell_type": "code",
   "execution_count": null,
   "metadata": {},
   "outputs": [],
   "source": [
    "task_obj.test_dataloader.dataset"
   ]
  },
  {
   "cell_type": "code",
   "execution_count": null,
   "metadata": {},
   "outputs": [],
   "source": [
    "print(task_obj.test_dataloader.dataset[0].timeseries.shape)\n",
    "print(task_obj.train_dataloader.dataset[0].timeseries.shape)\n",
    "print(task_obj.test_dataloader.dataset[0].forecast.shape)\n",
    "print(task_obj.train_dataloader.dataset[0].forecast.shape)"
   ]
  },
  {
   "cell_type": "code",
   "execution_count": null,
   "metadata": {},
   "outputs": [],
   "source": [
    "plt.plot(task_obj.test_dataloader.dataset.data[:512, -1])"
   ]
  },
  {
   "cell_type": "code",
   "execution_count": null,
   "metadata": {},
   "outputs": [],
   "source": [
    "a = task_obj.test_dataloader.dataset.data[:512, [-2, -1]].reshape((2, 512))\n",
    "a.shape"
   ]
  },
  {
   "cell_type": "code",
   "execution_count": null,
   "metadata": {},
   "outputs": [],
   "source": [
    "task_obj.test_dataloader.dataset.data.shape\n",
    "task_obj.train_dataloader.dataset.data.shape"
   ]
  },
  {
   "cell_type": "code",
   "execution_count": null,
   "metadata": {},
   "outputs": [],
   "source": [
    "task_obj.val_dataloader.dataset.data.mean(axis=0)"
   ]
  },
  {
   "cell_type": "code",
   "execution_count": null,
   "metadata": {},
   "outputs": [],
   "source": [
    "for batch_x in task_obj.train_dataloader:\n",
    "    print(batch_x.timeseries.shape)\n",
    "    print(batch_x.forecast.shape)\n",
    "    print(batch_x.input_mask.shape)\n",
    "    break"
   ]
  },
  {
   "cell_type": "code",
   "execution_count": null,
   "metadata": {},
   "outputs": [],
   "source": [
    "task_obj.model.to(task_obj.device)\n",
    "task_obj.model.eval()"
   ]
  },
  {
   "cell_type": "code",
   "execution_count": null,
   "metadata": {},
   "outputs": [],
   "source": [
    "args.pretraining_run_name = run_name\n",
    "task_obj.load_pretrained_moment(pretraining_task_name=\"long-horizon-forecasting\", do_not_copy_head=False)\n",
    "task_obj.model.to(task_obj.device)"
   ]
  },
  {
   "cell_type": "code",
   "execution_count": null,
   "metadata": {},
   "outputs": [],
   "source": [
    "average_loss, losses, (trues, preds, histories) = task_obj.validation(data_loader=task_obj.train_dataloader, return_preds=True)"
   ]
  },
  {
   "cell_type": "code",
   "execution_count": null,
   "metadata": {},
   "outputs": [],
   "source": [
    "average_loss"
   ]
  },
  {
   "cell_type": "code",
   "execution_count": null,
   "metadata": {},
   "outputs": [],
   "source": [
    "print(f\"History values: {histories.shape} | True values: {trues.shape} | False values: {preds.shape}\")"
   ]
  },
  {
   "cell_type": "code",
   "execution_count": null,
   "metadata": {},
   "outputs": [],
   "source": [
    "plt.plot(task_obj.train_dataloader.dataset.data[:, -1][:608])"
   ]
  },
  {
   "cell_type": "code",
   "execution_count": null,
   "metadata": {},
   "outputs": [],
   "source": [
    "idx = 0 # np.random.randint(0, len(histories))\n",
    "channel = -1\n",
    "true = np.concatenate([histories[idx, channel].squeeze(), trues[idx, channel, :].squeeze()])\n",
    "pred = np.concatenate([histories[idx, channel].squeeze(), preds[idx, channel, :].squeeze()])\n",
    "plt.title(f\"Forecasting: idx={idx}, horizon={trues[idx].shape[-1]}\")\n",
    "plt.plot(true, label=\"True\", c='red')\n",
    "plt.plot(pred, label=\"Pred\", c='darkblue')\n",
    "plt.legend()\n",
    "plt.show()"
   ]
  },
  {
   "cell_type": "code",
   "execution_count": null,
   "metadata": {},
   "outputs": [],
   "source": [
    "checkpoint = BaseModel.load_pretrained_weights(run_name=run_name, opt_steps=None)"
   ]
  },
  {
   "cell_type": "code",
   "execution_count": null,
   "metadata": {},
   "outputs": [],
   "source": [
    "# for ((name_p, param_p), (name_f, param_f)) in zip(pretrained_model.named_parameters(), finetuned_model.named_parameters()):\n",
    "#     if name_p == name_f and param_p.shape == param_f.shape:\n",
    "#         # print(name_p, param_p.shape)\n",
    "#         pass\n",
    "#     else:\n",
    "#         print(\"MISMATCH\", name_p, name_f, param_p.shape, param_f.shape)\n",
    "\n",
    "# # Make sure that all necessary parameters have been copied\n",
    "# for ((name_p, param_p), (name_f, param_f)) in zip(pretrained_model.named_parameters(), finetuned_model.named_parameters()):\n",
    "#     if (name_p == name_f) and (param_p.shape == param_f.shape) and name_p.startswith(\"head\"):\n",
    "#         if not torch.allclose(param_f.data, param_p.data):\n",
    "#             print(\"MISMATCH\", name_p, name_f, param_p.shape, param_f.shape)"
   ]
  },
  {
   "cell_type": "code",
   "execution_count": null,
   "metadata": {},
   "outputs": [],
   "source": [
    "dataloader = get_timeseries_dataloader(args)"
   ]
  },
  {
   "cell_type": "code",
   "execution_count": null,
   "metadata": {},
   "outputs": [],
   "source": [
    "dataloader.dataset"
   ]
  },
  {
   "cell_type": "code",
   "execution_count": null,
   "metadata": {},
   "outputs": [],
   "source": [
    "dataloader.dataset.plot(8032)"
   ]
  }
 ],
 "metadata": {
  "kernelspec": {
   "display_name": "Python 3",
   "language": "python",
   "name": "python3"
  },
  "language_info": {
   "codemirror_mode": {
    "name": "ipython",
    "version": 3
   },
   "file_extension": ".py",
   "mimetype": "text/x-python",
   "name": "python",
   "nbconvert_exporter": "python",
   "pygments_lexer": "ipython3",
   "version": "3.11.5"
  }
 },
 "nbformat": 4,
 "nbformat_minor": 2
}
